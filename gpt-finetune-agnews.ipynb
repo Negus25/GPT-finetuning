{
 "cells": [
  {
   "cell_type": "markdown",
   "id": "cd8642db",
   "metadata": {},
   "source": [
    "我们使用AGNews dataset数据集，通过finetune GPT进行情感分类任务。"
   ]
  },
  {
   "cell_type": "code",
   "execution_count": 1,
   "id": "d0f81874-d754-4f98-8de1-49bbc7fa4cab",
   "metadata": {},
   "outputs": [
    {
     "name": "stderr",
     "output_type": "stream",
     "text": [
      "/root/miniconda3/envs/king/lib/python3.9/site-packages/tqdm/auto.py:21: TqdmWarning: IProgress not found. Please update jupyter and ipywidgets. See https://ipywidgets.readthedocs.io/en/stable/user_install.html\n",
      "  from .autonotebook import tqdm as notebook_tqdm\n"
     ]
    }
   ],
   "source": [
    "import os\n",
    "import numpy as np\n",
    "import csv\n",
    "import mindspore\n",
    "from mindspore.dataset import text, GeneratorDataset, transforms\n",
    "from mindspore import nn\n",
    "\n",
    "from mindnlp import load_dataset\n",
    "from mindnlp.transformers import GPTTokenizer\n",
    "from mindnlp.transformers import GPTForSequenceClassification\n",
    "\n",
    "from mindnlp.engine import Trainer, Evaluator\n",
    "from mindnlp.engine.callbacks import CheckpointCallback, BestModelCallback\n",
    "from mindnlp.metrics import Accuracy"
   ]
  },
  {
   "cell_type": "markdown",
   "id": "5f3eeed0",
   "metadata": {},
   "source": [
    "The **AGNews dataset** is a collection of more than 1 million news articles. News articles have been gathered from more than 2000 news sources by ComeToMyHead in more than 1 year of activity. ComeToMyHead is an academic news search engine which has been running since July, 2004. The dataset is provided by the academic comunity for research purposes in data mining (clustering, classification, etc), information retrieval (ranking, search, etc), xml, data compression, data streaming, and any other non-commercial activity. \n",
    "The AG's news topic classification dataset is constructed by Xiang Zhang (xiang.zhang@nyu.edu) from the dataset above. It is used as a text classification benchmark in the following paper: Xiang Zhang, Junbo Zhao, Yann LeCun. Character-level Convolutional Networks for Text Classification. Advances in Neural Information Processing Systems 28 (NIPS 2015).\n",
    "The AG's news topic classification dataset is constructed by Xiang Zhang (xiang.zhang@nyu.edu) from the dataset above. It is used as a text classification benchmark in the following paper: Xiang Zhang, Junbo Zhao, Yann LeCun. Character-level Convolutional Networks for Text Classification. Advances in Neural Information Processing Systems 28 (NIPS 2015)."
   ]
  },
  {
   "cell_type": "code",
   "execution_count": null,
   "metadata": {},
   "outputs": [],
   "source": [
    "URL = {\n",
    "    \"train\": \"https://raw.githubusercontent.com/mhjabreel/CharCnn_Keras/master/data/ag_news_csv/train.csv\",\n",
    "    \"test\": \"https://raw.githubusercontent.com/mhjabreel/CharCnn_Keras/master/data/ag_news_csv/test.csv\",\n",
    "}"
   ]
  },
  {
   "cell_type": "markdown",
   "id": "097fb83e",
   "metadata": {},
   "source": [
    "It has four classes:\n",
    "- World \n",
    "- Sports \n",
    "- Business \n",
    "- Sci/Tech "
   ]
  },
  {
   "cell_type": "markdown",
   "id": "eecc89ff",
   "metadata": {},
   "source": [
    "{\n",
    "    \"label\": 3,\n",
    "    \"text\": \"New iPad released Just like every other September, this one is no different. Apple is planning to release a bigger, heavier, fatter iPad that...\"\n",
    "}"
   ]
  },
  {
   "cell_type": "markdown",
   "id": "f2e0dfe5",
   "metadata": {},
   "source": [
    "**Customizing Dataset**\n",
    "mindspore.dataset provides the loading APIs for some common datasets and standard format datasets. GeneratorDataset can help to load dataset based on the logic inside these classes/functions."
   ]
  },
  {
   "cell_type": "code",
   "execution_count": 2,
   "id": "6159a1e6-a16d-4741-aca9-badf0ab1e630",
   "metadata": {},
   "outputs": [],
   "source": [
    "class RandomAccessDataset:\n",
    "    def __init__(self, filepath):\n",
    "        self._data, self._label = self._load_data(filepath)\n",
    "\n",
    "    def _load_data(self, filepath):\n",
    "        data, labels = [], []\n",
    "        with open(filepath, encoding=\"utf-8\") as csv_file:\n",
    "            csv_reader = csv.reader(csv_file)\n",
    "            next(csv_reader)  # Skip the header row if present\n",
    "            for row in csv_reader:\n",
    "                label, title, description = row\n",
    "                label = int(label) - 1  # Adjust label to 0-indexed\n",
    "                text = \" \".join((title, description))  # Concatenate title and description\n",
    "                labels.append(label)\n",
    "                data.append(text)\n",
    "        return data, labels\n",
    "\n",
    "    def __getitem__(self, index):\n",
    "        return self._data[index], self._label[index]\n",
    "\n",
    "    def __len__(self):\n",
    "        return len(self._data)\n",
    "    \n",
    "\n"
   ]
  },
  {
   "attachments": {
    "image.png": {
     "image/png": "[encoded data removed]"
    }
   },
   "cell_type": "markdown",
   "id": "75edee4e",
   "metadata": {},
   "source": [
    "**Data Splits**\n",
    "![image.png](attachment:image.png)"
   ]
  },
  {
   "cell_type": "code",
   "execution_count": 3,
   "id": "47950daa-d914-4062-9d97-01db70661764",
   "metadata": {},
   "outputs": [],
   "source": [
    "train_path = 'train.csv'\n",
    "test_path = 'test.csv'\n",
    "train_loader = RandomAccessDataset(train_path)\n",
    "test_loader = RandomAccessDataset(test_path)\n",
    "train_dataset = GeneratorDataset(source=train_loader, column_names=[\"text\", \"label\"])\n",
    "test_dataset = GeneratorDataset(source=test_loader, column_names=[\"text\", \"label\"])"
   ]
  },
  {
   "cell_type": "code",
   "execution_count": 4,
   "id": "29088b9c-aeed-4f07-9617-64c4107e1732",
   "metadata": {},
   "outputs": [
    {
     "name": "stdout",
     "output_type": "stream",
     "text": [
      "[Tensor(shape=[], dtype=String, value= 'Fidelity slashes index-fund fees Fidelity Investments pays its mutual fund managers handsomely to do one thing: outsmart the stock market.'), Tensor(shape=[], dtype=Int64, value= 2)]\n"
     ]
    }
   ],
   "source": [
    "for data in train_dataset:\n",
    "    print(data)\n",
    "    break"
   ]
  },
  {
   "cell_type": "code",
   "execution_count": 5,
   "id": "df74d901-b9b0-4d88-9fd5-562e066f34b4",
   "metadata": {},
   "outputs": [
    {
     "name": "stderr",
     "output_type": "stream",
     "text": [
      "ftfy or spacy is not installed using BERT BasicTokenizer instead of SpaCy & ftfy.\n"
     ]
    }
   ],
   "source": [
    "# tokenizer\n",
    "gpt_tokenizer = GPTTokenizer.from_pretrained('./openai-gpt', from_pt=True)\n",
    "\n",
    "# add sepcial token: <PAD>\n",
    "special_tokens_dict = {\n",
    "    \"bos_token\": \"<bos>\",\n",
    "    \"eos_token\": \"<eos>\",\n",
    "    \"pad_token\": \"<pad>\",\n",
    "}\n",
    "num_added_toks = gpt_tokenizer.add_special_tokens(special_tokens_dict)"
   ]
  },
  {
   "cell_type": "code",
   "execution_count": 6,
   "id": "8356346d-0700-4b8a-816e-1f07795c8fa1",
   "metadata": {},
   "outputs": [
    {
     "name": "stderr",
     "output_type": "stream",
     "text": [
      "[WARNING] ME(1333:140490037392000,MainProcess):2024-01-20-13:26:51.927.260 [mindspore/dataset/engine/datasets.py:2480] Dataset is shuffled before split.\n"
     ]
    }
   ],
   "source": [
    "# split train dataset into train and valid datasets\n",
    "ds_train, ds_val = train_dataset.split([0.7, 0.3])"
   ]
  },
  {
   "cell_type": "code",
   "execution_count": 7,
   "id": "dac0381c",
   "metadata": {},
   "outputs": [],
   "source": [
    "def process_dataset(dataset, tokenizer, max_seq_len=512, batch_size=16, shuffle=False):\n",
    "    def tokenize(text):\n",
    "        tokenized = tokenizer(text, truncation=True, max_length=max_seq_len)\n",
    "        return tokenized[0], tokenized[1]\n",
    "\n",
    "    if shuffle:\n",
    "        dataset = dataset.shuffle(batch_size)\n",
    "\n",
    "    # map dataset\n",
    "    dataset = dataset.map(operations=[tokenize], input_columns=\"text\", output_columns=['input_ids', 'attention_mask'])\n",
    "    dataset = dataset.map(operations=transforms.TypeCast(mindspore.int32), input_columns=\"label\", output_columns=\"labels\")\n",
    "    # batch dataset\n",
    "    dataset = dataset.padded_batch(batch_size, pad_info={'input_ids': (None, tokenizer.pad_token_id),\n",
    "                                                         'attention_mask': (None, 0)})\n",
    "\n",
    "    return dataset"
   ]
  },
  {
   "cell_type": "code",
   "execution_count": 8,
   "id": "cb7145b7-4f5a-407d-a8aa-46f7632bd14d",
   "metadata": {},
   "outputs": [],
   "source": [
    "dataset_train = process_dataset(ds_train, gpt_tokenizer, shuffle=True)\n",
    "dataset_val = process_dataset(ds_val, gpt_tokenizer)\n",
    "dataset_test = process_dataset(test_dataset, gpt_tokenizer)\n"
   ]
  },
  {
   "cell_type": "code",
   "execution_count": 9,
   "id": "62005265-f591-436c-b322-56fc178e1a00",
   "metadata": {},
   "outputs": [
    {
     "data": {
      "text/plain": [
       "[Tensor(shape=[16, 200], dtype=Int64, value=\n",
       " [[24845, 10530,  3106 ... 40480, 40480, 40480],\n",
       "  [  284,   285, 19755 ... 40480, 40480, 40480],\n",
       "  [10539,   285, 19755 ... 40480, 40480, 40480],\n",
       "  ...\n",
       "  [27817,  4579,  1834 ... 40480, 40480, 40480],\n",
       "  [22703,   485,  3937 ... 40480, 40480, 40480],\n",
       "  [ 3344,  5531,   240 ... 40480, 40480, 40480]]),\n",
       " Tensor(shape=[16, 200], dtype=Int64, value=\n",
       " [[1, 1, 1 ... 0, 0, 0],\n",
       "  [1, 1, 1 ... 0, 0, 0],\n",
       "  [1, 1, 1 ... 0, 0, 0],\n",
       "  ...\n",
       "  [1, 1, 1 ... 0, 0, 0],\n",
       "  [1, 1, 1 ... 0, 0, 0],\n",
       "  [1, 1, 1 ... 0, 0, 0]]),\n",
       " Tensor(shape=[16], dtype=Int32, value= [2, 2, 1, 3, 0, 0, 1, 3, 3, 3, 1, 0, 3, 2, 3, 1])]"
      ]
     },
     "execution_count": 9,
     "metadata": {},
     "output_type": "execute_result"
    }
   ],
   "source": [
    "next(dataset_train.create_tuple_iterator())"
   ]
  },
  {
   "cell_type": "code",
   "execution_count": 10,
   "id": "98fa9d4e-be0f-432b-a061-78bef1412b43",
   "metadata": {},
   "outputs": [
    {
     "name": "stderr",
     "output_type": "stream",
     "text": [
      "The following parameters in models are missing parameter:\n",
      "['score.weight']\n"
     ]
    }
   ],
   "source": [
    "# set bert config and define parameters for training\n",
    "model = GPTForSequenceClassification.from_pretrained('openai-gpt', from_pt=True, num_labels=4)\n",
    "model.config.pad_token_id = gpt_tokenizer.pad_token_id\n",
    "model.resize_token_embeddings(model.config.vocab_size + 3)\n",
    "\n",
    "optimizer = nn.Adam(model.trainable_params(), learning_rate=2e-5)\n",
    "\n",
    "metric = Accuracy()\n",
    "\n",
    "# define callbacks to save checkpoints\n",
    "ckpoint_cb = CheckpointCallback(save_path='checkpoint', ckpt_name='gpt_agenews_finetune', epochs=1, keep_checkpoint_max=2)\n",
    "best_model_cb = BestModelCallback(save_path='checkpoint', ckpt_name='gpt_agenews_finetune_best', auto_load=True)\n",
    "\n",
    "trainer = Trainer(network=model, train_dataset=dataset_train,\n",
    "                  eval_dataset=dataset_train, metrics=metric,\n",
    "                  epochs=3, optimizer=optimizer, callbacks=[ckpoint_cb, best_model_cb],\n",
    "                  jit=False)"
   ]
  },
  {
   "cell_type": "code",
   "execution_count": 11,
   "id": "46c2092a-1b74-41cb-8b55-6f7c8e77e155",
   "metadata": {},
   "outputs": [
    {
     "name": "stdout",
     "output_type": "stream",
     "text": [
      "The train will start from the checkpoint saved in 'checkpoint'.\n"
     ]
    },
    {
     "name": "stderr",
     "output_type": "stream",
     "text": [
      "Epoch 0: 100%|██████████| 5250/5250 [15:59<00:00,  5.47it/s, loss=0.26279163]\n"
     ]
    },
    {
     "name": "stdout",
     "output_type": "stream",
     "text": [
      "Checkpoint: 'gpt_agenews_finetune_epoch_0.ckpt' has been saved in epoch: 0.\n"
     ]
    },
    {
     "name": "stderr",
     "output_type": "stream",
     "text": [
      "Evaluate: 100%|██████████| 5250/5250 [07:26<00:00, 11.75it/s]\n"
     ]
    },
    {
     "name": "stdout",
     "output_type": "stream",
     "text": [
      "Evaluate Score: {'Accuracy': 0.941475493755878}\n",
      "---------------Best Model: 'gpt_agenews_finetune_best.ckpt' has been saved in epoch: 0.---------------\n"
     ]
    },
    {
     "name": "stderr",
     "output_type": "stream",
     "text": [
      "Epoch 1: 100%|██████████| 5250/5250 [16:51<00:00,  5.19it/s, loss=0.17396651]  \n"
     ]
    },
    {
     "name": "stdout",
     "output_type": "stream",
     "text": [
      "Checkpoint: 'gpt_agenews_finetune_epoch_1.ckpt' has been saved in epoch: 1.\n"
     ]
    },
    {
     "name": "stderr",
     "output_type": "stream",
     "text": [
      "Evaluate: 100%|██████████| 5250/5250 [06:36<00:00, 13.24it/s]\n"
     ]
    },
    {
     "name": "stdout",
     "output_type": "stream",
     "text": [
      "Evaluate Score: {'Accuracy': 0.9556899486898653}\n",
      "---------------Best Model: 'gpt_agenews_finetune_best.ckpt' has been saved in epoch: 1.---------------\n"
     ]
    },
    {
     "name": "stderr",
     "output_type": "stream",
     "text": [
      "Epoch 2: 100%|██████████| 5250/5250 [15:53<00:00,  5.51it/s, loss=0.13529888]\n"
     ]
    },
    {
     "name": "stdout",
     "output_type": "stream",
     "text": [
      "The maximum number of stored checkpoints has been reached.\n",
      "Checkpoint: 'gpt_agenews_finetune_epoch_2.ckpt' has been saved in epoch: 2.\n"
     ]
    },
    {
     "name": "stderr",
     "output_type": "stream",
     "text": [
      "Evaluate: 100%|██████████| 5250/5250 [06:29<00:00, 13.49it/s]\n"
     ]
    },
    {
     "name": "stdout",
     "output_type": "stream",
     "text": [
      "Evaluate Score: {'Accuracy': 0.9649519637138537}\n",
      "---------------Best Model: 'gpt_agenews_finetune_best.ckpt' has been saved in epoch: 2.---------------\n",
      "Loading best model from 'checkpoint' with '['Accuracy']': [0.9649519637138537]...\n",
      "---------------The model is already load the best model from 'gpt_agenews_finetune_best.ckpt'.---------------\n"
     ]
    }
   ],
   "source": [
    "trainer.run(tgt_columns=\"labels\")\n"
   ]
  },
  {
   "cell_type": "code",
   "execution_count": 12,
   "id": "02f7f908-d729-43b9-8c06-8868dec2a86d",
   "metadata": {},
   "outputs": [
    {
     "name": "stderr",
     "output_type": "stream",
     "text": [
      "Evaluate: 100%|██████████| 475/475 [00:35<00:00, 13.41it/s]"
     ]
    },
    {
     "name": "stdout",
     "output_type": "stream",
     "text": [
      "Evaluate Score: {'Accuracy': 0.9327543097776023}\n"
     ]
    },
    {
     "name": "stderr",
     "output_type": "stream",
     "text": [
      "\n"
     ]
    }
   ],
   "source": [
    "evaluator = Evaluator(network=model, eval_dataset=dataset_test, metrics=metric)\n",
    "evaluator.run(tgt_columns=\"labels\")"
   ]
  }
 ],
 "metadata": {
  "kernelspec": {
   "display_name": "king",
   "language": "python",
   "name": "python3"
  },
  "language_info": {
   "codemirror_mode": {
    "name": "ipython",
    "version": 3
   },
   "file_extension": ".py",
   "mimetype": "text/x-python",
   "name": "python",
   "nbconvert_exporter": "python",
   "pygments_lexer": "ipython3",
   "version": "3.9.18"
  }
 },
 "nbformat": 4,
 "nbformat_minor": 5
}
